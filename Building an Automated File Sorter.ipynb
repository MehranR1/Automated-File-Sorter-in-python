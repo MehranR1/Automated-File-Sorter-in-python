{
 "cells": [
  {
   "cell_type": "code",
   "execution_count": 3,
   "id": "fd5d99e7-b6a8-4613-b343-a34bbec00cb7",
   "metadata": {},
   "outputs": [],
   "source": [
    "import os, shutil"
   ]
  },
  {
   "cell_type": "code",
   "execution_count": 29,
   "id": "3ef56b00-7060-415c-b504-f3a009848b7a",
   "metadata": {},
   "outputs": [],
   "source": [
    "path = r\"C:/Users/Lenovo/Desktop/sort/\""
   ]
  },
  {
   "cell_type": "code",
   "execution_count": 33,
   "id": "482c9caf-557e-4e1c-a8a0-cd7863c082b6",
   "metadata": {},
   "outputs": [],
   "source": [
    "file_name = os.listdir(path)\n"
   ]
  },
  {
   "cell_type": "code",
   "execution_count": 34,
   "id": "3334860f-0359-45e8-81a3-1e6413cb0137",
   "metadata": {},
   "outputs": [
    {
     "data": {
      "text/plain": [
       "True"
      ]
     },
     "execution_count": 34,
     "metadata": {},
     "output_type": "execute_result"
    }
   ],
   "source": [
    "os.path.exists(path)"
   ]
  },
  {
   "cell_type": "code",
   "execution_count": 31,
   "id": "9f84043c-56c2-4b30-89f9-4cb088620d82",
   "metadata": {},
   "outputs": [
    {
     "name": "stdout",
     "output_type": "stream",
     "text": [
      "C:/Users/Lenovo/Desktop/sort/csv files\n",
      "C:/Users/Lenovo/Desktop/sort/image files\n",
      "C:/Users/Lenovo/Desktop/sort/text files\n"
     ]
    }
   ],
   "source": [
    "folder_names = ['csv files', 'image files', 'text files']\n",
    "\n",
    "for loop in range(0,3):   \n",
    "    if not os.path.exists(path + folder_names[loop]):\n",
    "        # print(path + folder_names[loop])\n",
    "        os.makedirs(path + folder_names[loop])"
   ]
  },
  {
   "cell_type": "code",
   "execution_count": 36,
   "id": "f4ddcd57-30ef-44ef-a179-a26bd8c60326",
   "metadata": {},
   "outputs": [
    {
     "name": "stdout",
     "output_type": "stream",
     "text": [
      "here are files in this path were not moved!\n",
      "here are files in this path were not moved!\n",
      "here are files in this path were not moved!\n",
      "here are files in this path were not moved!\n",
      "here are files in this path were not moved!\n"
     ]
    }
   ],
   "source": [
    "for file in file_name:\n",
    "    if '.txt' in file and not os.path.exists(path + 'text files/' + file):\n",
    "         shutil.move(path + file , path + 'text files/' + file)\n",
    "    elif 'jpg' in file and not os.path.exists(path + 'image files/' + file):\n",
    "         shutil.move(path + file , path + 'image files/' + file)\n",
    "    elif '.xlsx' in file and not os.path.exists(path + 'csv files' + file):\n",
    "         shutil.move(path + file , path + 'csv files/' + file)\n",
    "    else:\n",
    "         print(\"here are files in this path were not moved!\")\n",
    "    "
   ]
  },
  {
   "cell_type": "code",
   "execution_count": null,
   "id": "cb178f8e-6ac2-43c1-9ef8-47b55501959b",
   "metadata": {},
   "outputs": [],
   "source": []
  },
  {
   "cell_type": "code",
   "execution_count": null,
   "id": "39d61672-f577-4d24-9dbd-a5649a7d32fc",
   "metadata": {},
   "outputs": [],
   "source": []
  },
  {
   "cell_type": "code",
   "execution_count": null,
   "id": "472ada61-83e4-489e-95c3-60f75886f803",
   "metadata": {},
   "outputs": [],
   "source": []
  },
  {
   "cell_type": "code",
   "execution_count": null,
   "id": "fac2b443-2fbb-4ab1-912d-de4faa661d0d",
   "metadata": {},
   "outputs": [],
   "source": []
  },
  {
   "cell_type": "code",
   "execution_count": null,
   "id": "eb303271-cf4c-4d14-bc0b-010881609eac",
   "metadata": {},
   "outputs": [],
   "source": []
  },
  {
   "cell_type": "code",
   "execution_count": null,
   "id": "97bf1222-da5c-40b9-8767-2e11e18e45c0",
   "metadata": {},
   "outputs": [],
   "source": []
  },
  {
   "cell_type": "code",
   "execution_count": null,
   "id": "bd4a3194-6ef4-4e24-b478-206ad39b04da",
   "metadata": {},
   "outputs": [],
   "source": []
  },
  {
   "cell_type": "code",
   "execution_count": null,
   "id": "7131efd0-7e5f-409c-ae38-219875c3b7c4",
   "metadata": {},
   "outputs": [],
   "source": []
  },
  {
   "cell_type": "code",
   "execution_count": null,
   "id": "b2c249b8-b21e-49dd-b4e9-e36dc89b9a08",
   "metadata": {},
   "outputs": [],
   "source": []
  }
 ],
 "metadata": {
  "kernelspec": {
   "display_name": "Python 3 (ipykernel)",
   "language": "python",
   "name": "python3"
  },
  "language_info": {
   "codemirror_mode": {
    "name": "ipython",
    "version": 3
   },
   "file_extension": ".py",
   "mimetype": "text/x-python",
   "name": "python",
   "nbconvert_exporter": "python",
   "pygments_lexer": "ipython3",
   "version": "3.12.4"
  }
 },
 "nbformat": 4,
 "nbformat_minor": 5
}
